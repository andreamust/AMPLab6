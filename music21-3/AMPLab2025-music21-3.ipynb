# create a music21 stream with the chords
s = stream.base.Stream()

# add to the stream the key signature and the time signature
s.append(time_signature)

# add chords
for music21_chord in music21_chords:
    s.append(music21_chord)

s.show()
